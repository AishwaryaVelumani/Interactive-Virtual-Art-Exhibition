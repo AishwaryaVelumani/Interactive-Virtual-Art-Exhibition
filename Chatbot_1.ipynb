{
  "nbformat": 4,
  "nbformat_minor": 0,
  "metadata": {
    "colab": {
      "name": "Chatbot 1.ipynb",
      "provenance": [],
      "collapsed_sections": [],
      "toc_visible": true,
      "authorship_tag": "ABX9TyPbZtU8n+RqW2N/ZH1ZjyX4",
      "include_colab_link": true
    },
    "kernelspec": {
      "name": "python3",
      "display_name": "Python 3"
    },
    "language_info": {
      "name": "python"
    }
  },
  "cells": [
    {
      "cell_type": "markdown",
      "metadata": {
        "id": "view-in-github",
        "colab_type": "text"
      },
      "source": [
        "<a href=\"https://colab.research.google.com/github/AishwaryaVelumani/Interactive-Virtual-Art-Exhibition/blob/main/Chatbot_1.ipynb\" target=\"_parent\"><img src=\"https://colab.research.google.com/assets/colab-badge.svg\" alt=\"Open In Colab\"/></a>"
      ]
    },
    {
      "cell_type": "markdown",
      "metadata": {
        "id": "J-mcva3MwpYJ"
      },
      "source": [
        "Source: \n",
        "https://www.edureka.co/blog/how-to-make-a-chatbot-in-python/\n",
        "\n",
        "https://chatterbot.readthedocs.io/en/stable/quickstart.html\n",
        "\n",
        "https://chatterbot.readthedocs.io/en/stable/tutorial.html\n"
      ]
    },
    {
      "cell_type": "code",
      "metadata": {
        "colab": {
          "base_uri": "https://localhost:8080/"
        },
        "id": "8EePY5B4wmHh",
        "outputId": "2d1a1e35-051a-43f9-d7af-a1ad31e2ca34"
      },
      "source": [
        "!pip install chatterbot"
      ],
      "execution_count": 30,
      "outputs": [
        {
          "output_type": "stream",
          "text": [
            "Requirement already satisfied: chatterbot in /usr/local/lib/python3.7/dist-packages (1.0.8)\n",
            "Requirement already satisfied: pytz in /usr/local/lib/python3.7/dist-packages (from chatterbot) (2018.9)\n",
            "Requirement already satisfied: mathparse<0.2,>=0.1 in /usr/local/lib/python3.7/dist-packages (from chatterbot) (0.1.2)\n",
            "Requirement already satisfied: python-dateutil<2.9,>=2.8 in /usr/local/lib/python3.7/dist-packages (from chatterbot) (2.8.1)\n",
            "Requirement already satisfied: sqlalchemy<1.4,>=1.3 in /usr/local/lib/python3.7/dist-packages (from chatterbot) (1.3.23)\n",
            "Requirement already satisfied: six>=1.5 in /usr/local/lib/python3.7/dist-packages (from python-dateutil<2.9,>=2.8->chatterbot) (1.15.0)\n"
          ],
          "name": "stdout"
        }
      ]
    },
    {
      "cell_type": "code",
      "metadata": {
        "colab": {
          "base_uri": "https://localhost:8080/"
        },
        "id": "tMyOQsEduBzg",
        "outputId": "c420ab4b-913d-4065-d721-09257032f639"
      },
      "source": [
        "!python -m chatterbot --version"
      ],
      "execution_count": 32,
      "outputs": [
        {
          "output_type": "stream",
          "text": [
            "Traceback (most recent call last):\n",
            "  File \"/usr/lib/python3.7/runpy.py\", line 193, in _run_module_as_main\n",
            "    \"__main__\", mod_spec)\n",
            "  File \"/usr/lib/python3.7/runpy.py\", line 85, in _run_code\n",
            "    exec(code, run_globals)\n",
            "  File \"/usr/local/lib/python3.7/dist-packages/chatterbot/__main__.py\", line 20, in <module>\n",
            "    print(get_chatterbot_version())\n",
            "  File \"/usr/local/lib/python3.7/dist-packages/chatterbot/__main__.py\", line 15, in get_chatterbot_version\n",
            "    return config['chatterbot']['version']\n",
            "  File \"/usr/lib/python3.7/configparser.py\", line 958, in __getitem__\n",
            "    raise KeyError(key)\n",
            "KeyError: 'chatterbot'\n"
          ],
          "name": "stdout"
        }
      ]
    },
    {
      "cell_type": "code",
      "metadata": {
        "colab": {
          "base_uri": "https://localhost:8080/"
        },
        "id": "UgHmWRIluNuY",
        "outputId": "96cdfa18-526f-4404-dad3-33622a91308e"
      },
      "source": [
        "!pip install chatterbot --upgrade"
      ],
      "execution_count": 33,
      "outputs": [
        {
          "output_type": "stream",
          "text": [
            "Requirement already up-to-date: chatterbot in /usr/local/lib/python3.7/dist-packages (1.0.8)\n",
            "Requirement already satisfied, skipping upgrade: mathparse<0.2,>=0.1 in /usr/local/lib/python3.7/dist-packages (from chatterbot) (0.1.2)\n",
            "Requirement already satisfied, skipping upgrade: sqlalchemy<1.4,>=1.3 in /usr/local/lib/python3.7/dist-packages (from chatterbot) (1.3.23)\n",
            "Requirement already satisfied, skipping upgrade: pytz in /usr/local/lib/python3.7/dist-packages (from chatterbot) (2018.9)\n",
            "Requirement already satisfied, skipping upgrade: python-dateutil<2.9,>=2.8 in /usr/local/lib/python3.7/dist-packages (from chatterbot) (2.8.1)\n",
            "Requirement already satisfied, skipping upgrade: six>=1.5 in /usr/local/lib/python3.7/dist-packages (from python-dateutil<2.9,>=2.8->chatterbot) (1.15.0)\n"
          ],
          "name": "stdout"
        }
      ]
    },
    {
      "cell_type": "code",
      "metadata": {
        "colab": {
          "base_uri": "https://localhost:8080/"
        },
        "id": "HLHoXM9cuWhC",
        "outputId": "03675ffe-97aa-4a60-987b-974960166a4a"
      },
      "source": [
        "!pip install chatterbot-corpus"
      ],
      "execution_count": 34,
      "outputs": [
        {
          "output_type": "stream",
          "text": [
            "Collecting chatterbot-corpus\n",
            "\u001b[?25l  Downloading https://files.pythonhosted.org/packages/ed/19/f8b41daf36fe4b0f43e283a820362ffdb2c1128600ab4ee187e84262fa4d/chatterbot_corpus-1.2.0-py2.py3-none-any.whl (117kB)\n",
            "\r\u001b[K     |██▉                             | 10kB 14.1MB/s eta 0:00:01\r\u001b[K     |█████▋                          | 20kB 9.0MB/s eta 0:00:01\r\u001b[K     |████████▍                       | 30kB 8.5MB/s eta 0:00:01\r\u001b[K     |███████████▏                    | 40kB 7.5MB/s eta 0:00:01\r\u001b[K     |██████████████                  | 51kB 4.5MB/s eta 0:00:01\r\u001b[K     |████████████████▊               | 61kB 5.1MB/s eta 0:00:01\r\u001b[K     |███████████████████▋            | 71kB 4.9MB/s eta 0:00:01\r\u001b[K     |██████████████████████▍         | 81kB 5.4MB/s eta 0:00:01\r\u001b[K     |█████████████████████████▏      | 92kB 5.6MB/s eta 0:00:01\r\u001b[K     |████████████████████████████    | 102kB 5.7MB/s eta 0:00:01\r\u001b[K     |██████████████████████████████▊ | 112kB 5.7MB/s eta 0:00:01\r\u001b[K     |████████████████████████████████| 122kB 5.7MB/s \n",
            "\u001b[?25hRequirement already satisfied: PyYAML<4.0,>=3.12 in /usr/local/lib/python3.7/dist-packages (from chatterbot-corpus) (3.13)\n",
            "Installing collected packages: chatterbot-corpus\n",
            "Successfully installed chatterbot-corpus-1.2.0\n"
          ],
          "name": "stdout"
        }
      ]
    },
    {
      "cell_type": "code",
      "metadata": {
        "colab": {
          "base_uri": "https://localhost:8080/"
        },
        "id": "j09pEYQywdmh",
        "outputId": "d5a19371-9460-473c-b1a3-88cdd6cecf7a"
      },
      "source": [
        "!pip install pyyaml"
      ],
      "execution_count": 42,
      "outputs": [
        {
          "output_type": "stream",
          "text": [
            "Requirement already satisfied: pyyaml in /usr/local/lib/python3.7/dist-packages (3.13)\n"
          ],
          "name": "stdout"
        }
      ]
    },
    {
      "cell_type": "code",
      "metadata": {
        "colab": {
          "base_uri": "https://localhost:8080/"
        },
        "id": "Oe8zpCjWwil_",
        "outputId": "999fd5e9-9eea-403b-b9d8-938d6edbba28"
      },
      "source": [
        "!pip install pipenv\n",
        "#Pipenv is a packaging tool for Python that solves some common problems associated with the typical workflow using pip , virtualenv , and the good old requirements. txt . In addition to addressing some common issues, it consolidates and simplifies the development process to a single command line tool."
      ],
      "execution_count": 43,
      "outputs": [
        {
          "output_type": "stream",
          "text": [
            "Collecting pipenv\n",
            "\u001b[?25l  Downloading https://files.pythonhosted.org/packages/df/c5/2ebf6fcab61826a6e886531d67bb9776b4027c3094fbf2fbbaa2c9075d92/pipenv-2020.11.15-py2.py3-none-any.whl (3.9MB)\n",
            "\u001b[K     |████████████████████████████████| 3.9MB 4.5MB/s \n",
            "\u001b[?25hRequirement already satisfied: setuptools>=36.2.1 in /usr/local/lib/python3.7/dist-packages (from pipenv) (54.1.2)\n",
            "Requirement already satisfied: pip>=18.0 in /usr/local/lib/python3.7/dist-packages (from pipenv) (19.3.1)\n",
            "Requirement already satisfied: certifi in /usr/local/lib/python3.7/dist-packages (from pipenv) (2020.12.5)\n",
            "Collecting virtualenv-clone>=0.2.5\n",
            "  Downloading https://files.pythonhosted.org/packages/83/b8/cd931487d250565392c39409117436d910232c8a3ac09ea2fb62a6c47bff/virtualenv_clone-0.5.4-py2.py3-none-any.whl\n",
            "Collecting virtualenv\n",
            "\u001b[?25l  Downloading https://files.pythonhosted.org/packages/91/fb/ca6c071f4231e06a9f0c3bd81c15c233bbacd4a7d9dbb7438d95fece8a1e/virtualenv-20.4.3-py2.py3-none-any.whl (7.2MB)\n",
            "\u001b[K     |████████████████████████████████| 7.2MB 37.6MB/s \n",
            "\u001b[?25hRequirement already satisfied: appdirs<2,>=1.4.3 in /usr/local/lib/python3.7/dist-packages (from virtualenv->pipenv) (1.4.4)\n",
            "Requirement already satisfied: importlib-metadata>=0.12; python_version < \"3.8\" in /usr/local/lib/python3.7/dist-packages (from virtualenv->pipenv) (3.7.2)\n",
            "Collecting distlib<1,>=0.3.1\n",
            "\u001b[?25l  Downloading https://files.pythonhosted.org/packages/f5/0a/490fa011d699bb5a5f3a0cf57de82237f52a6db9d40f33c53b2736c9a1f9/distlib-0.3.1-py2.py3-none-any.whl (335kB)\n",
            "\u001b[K     |████████████████████████████████| 337kB 33.5MB/s \n",
            "\u001b[?25hRequirement already satisfied: six<2,>=1.9.0 in /usr/local/lib/python3.7/dist-packages (from virtualenv->pipenv) (1.15.0)\n",
            "Requirement already satisfied: filelock<4,>=3.0.0 in /usr/local/lib/python3.7/dist-packages (from virtualenv->pipenv) (3.0.12)\n",
            "Requirement already satisfied: zipp>=0.5 in /usr/local/lib/python3.7/dist-packages (from importlib-metadata>=0.12; python_version < \"3.8\"->virtualenv->pipenv) (3.4.1)\n",
            "Requirement already satisfied: typing-extensions>=3.6.4; python_version < \"3.8\" in /usr/local/lib/python3.7/dist-packages (from importlib-metadata>=0.12; python_version < \"3.8\"->virtualenv->pipenv) (3.7.4.3)\n",
            "Installing collected packages: virtualenv-clone, distlib, virtualenv, pipenv\n",
            "Successfully installed distlib-0.3.1 pipenv-2020.11.15 virtualenv-20.4.3 virtualenv-clone-0.5.4\n"
          ],
          "name": "stdout"
        }
      ]
    },
    {
      "cell_type": "code",
      "metadata": {
        "colab": {
          "base_uri": "https://localhost:8080/"
        },
        "id": "yS7d1dFuwtNG",
        "outputId": "9d592cfd-2d7a-4846-d29f-ed11090d925e"
      },
      "source": [
        "!pipenv install git+https://github.com/gunthercox/chatterbot-corpus.git#egg=chatterbot-corpus"
      ],
      "execution_count": 44,
      "outputs": [
        {
          "output_type": "stream",
          "text": [
            "\u001b[39m\u001b[1mCreating a virtualenv for this project...\u001b[39m\u001b[22m\n",
            "Pipfile: \u001b[33m\u001b[1m/content/Pipfile\u001b[39m\u001b[22m\n",
            "\u001b[39m\u001b[1mUsing\u001b[39m\u001b[22m \u001b[33m\u001b[1m/usr/bin/python3\u001b[39m\u001b[22m \u001b[32m\u001b[22m(3.7.10)\u001b[39m\u001b[22m \u001b[39m\u001b[1mto create virtualenv...\u001b[39m\u001b[22m\n",
            "⠴\u001b[0m Creating virtual environment...\u001b[K\u001b[36m\u001b[22mcreated virtual environment CPython3.7.10.final.0-64 in 924ms\n",
            "  creator CPython3Posix(dest=/root/.local/share/virtualenvs/content-cQIIIOO2, clear=False, no_vcs_ignore=False, global=False)\n",
            "  seeder FromAppData(download=False, pip=bundle, setuptools=bundle, wheel=bundle, via=copy, app_data_dir=/root/.local/share/virtualenv)\n",
            "    added seed packages: pip==21.0.1, setuptools==54.1.2, wheel==0.36.2\n",
            "  activators BashActivator,CShellActivator,FishActivator,PowerShellActivator,PythonActivator,XonshActivator\n",
            "\u001b[39m\u001b[22m\n",
            "\u001b[K\u001b[?25h\u001b[32m\u001b[22m✔ Successfully created virtual environment!\u001b[39m\u001b[22m\u001b[0m \n",
            "Virtualenv location: \u001b[32m\u001b[22m/root/.local/share/virtualenvs/content-cQIIIOO2\u001b[39m\u001b[22m\n",
            "\u001b[39m\u001b[1mCreating a Pipfile for this project...\u001b[39m\u001b[22m\n",
            "\u001b[39m\u001b[1mInstalling \u001b[32m\u001b[1mgit+https://github.com/gunthercox/chatterbot-corpus.git#egg=chatterbot-corpus\u001b[39m\u001b[22m...\u001b[39m\u001b[22m\n",
            "\u001b[K\u001b[39m\u001b[1mAdding\u001b[39m\u001b[22m \u001b[32m\u001b[1mchatterbot-corpus\u001b[39m\u001b[22m \u001b[39m\u001b[1mto Pipfile's\u001b[39m\u001b[22m \u001b[33m\u001b[1m[packages]\u001b[39m\u001b[22m\u001b[39m\u001b[1m...\u001b[39m\u001b[22m\n",
            "\u001b[K\u001b[?25h✔ Installation Succeeded\u001b[0m \n",
            "\u001b[39m\u001b[1mPipfile.lock not found, creating...\u001b[39m\u001b[22m\n",
            "\u001b[39m\u001b[22mLocking\u001b[39m\u001b[22m \u001b[33m\u001b[22m[dev-packages]\u001b[39m\u001b[22m \u001b[39m\u001b[22mdependencies...\u001b[39m\u001b[22m\n",
            "\u001b[39m\u001b[22mLocking\u001b[39m\u001b[22m \u001b[33m\u001b[22m[packages]\u001b[39m\u001b[22m \u001b[39m\u001b[22mdependencies...\u001b[39m\u001b[22m\n",
            "\u001b[KBuilding requirements...\n",
            "\u001b[K\u001b[KResolving dependencies...\n",
            "\u001b[K\u001b[?25h\u001b[32m\u001b[22m✔ Success!\u001b[39m\u001b[22m\u001b[0m \n",
            "\u001b[39m\u001b[1mUpdated Pipfile.lock (f9735b)!\u001b[39m\u001b[22m\n",
            "\u001b[39m\u001b[1mInstalling dependencies from Pipfile.lock (f9735b)...\u001b[39m\u001b[22m\n",
            "  Building wheel for pypandoc (setup.py) ... \u001b[?25l\u001b[?25hdone\n",
            "  🐍   \u001b[32m\u001b[1m▉\u001b[39m\u001b[22m\u001b[32m\u001b[1m▉\u001b[39m\u001b[22m\u001b[32m\u001b[1m▉\u001b[39m\u001b[22m\u001b[32m\u001b[1m▉\u001b[39m\u001b[22m\u001b[32m\u001b[1m▉\u001b[39m\u001b[22m\u001b[32m\u001b[1m▉\u001b[39m\u001b[22m\u001b[32m\u001b[1m▉\u001b[39m\u001b[22m\u001b[32m\u001b[1m▉\u001b[39m\u001b[22m\u001b[32m\u001b[1m▉\u001b[39m\u001b[22m\u001b[32m\u001b[1m▉\u001b[39m\u001b[22m\u001b[32m\u001b[1m▉\u001b[39m\u001b[22m\u001b[32m\u001b[1m▉\u001b[39m\u001b[22m\u001b[32m\u001b[1m▉\u001b[39m\u001b[22m\u001b[32m\u001b[1m▉\u001b[39m\u001b[22m\u001b[32m\u001b[1m▉\u001b[39m\u001b[22m\u001b[32m\u001b[1m▉\u001b[39m\u001b[22m\u001b[32m\u001b[1m▉\u001b[39m\u001b[22m\u001b[32m\u001b[1m▉\u001b[39m\u001b[22m\u001b[32m\u001b[1m▉\u001b[39m\u001b[22m\u001b[32m\u001b[1m▉\u001b[39m\u001b[22m\u001b[32m\u001b[1m▉\u001b[39m\u001b[22m\u001b[32m\u001b[1m▉\u001b[39m\u001b[22m\u001b[32m\u001b[1m▉\u001b[39m\u001b[22m\u001b[32m\u001b[1m▉\u001b[39m\u001b[22m\u001b[32m\u001b[1m▉\u001b[39m\u001b[22m\u001b[32m\u001b[1m▉\u001b[39m\u001b[22m\u001b[32m\u001b[1m▉\u001b[39m\u001b[22m\u001b[32m\u001b[1m▉\u001b[39m\u001b[22m\u001b[32m\u001b[1m▉\u001b[39m\u001b[22m\u001b[32m\u001b[1m▉\u001b[39m\u001b[22m\u001b[32m\u001b[1m▉\u001b[39m\u001b[22m\u001b[32m\u001b[1m▉\u001b[39m\u001b[22m 0/0 — \u001b[30m\u001b[22m00:00:00\u001b[39m\u001b[22m\n",
            "To activate this project's virtualenv, run \u001b[33m\u001b[22mpipenv shell\u001b[39m\u001b[22m.\n",
            "Alternatively, run a command inside the virtualenv with \u001b[33m\u001b[22mpipenv run\u001b[39m\u001b[22m.\n",
            "\u001b[0m"
          ],
          "name": "stdout"
        }
      ]
    },
    {
      "cell_type": "code",
      "metadata": {
        "colab": {
          "base_uri": "https://localhost:8080/"
        },
        "id": "0KHnqTnyxoqN",
        "outputId": "88f4093e-a93a-4fd2-80bf-38938fe1c6b6"
      },
      "source": [
        "cd /root/.local/share/virtualenvs/content-cQIIIOO2/bin/"
      ],
      "execution_count": 48,
      "outputs": [
        {
          "output_type": "stream",
          "text": [
            "/root/.local/share/virtualenvs/content-cQIIIOO2/bin\n"
          ],
          "name": "stdout"
        }
      ]
    },
    {
      "cell_type": "code",
      "metadata": {
        "colab": {
          "base_uri": "https://localhost:8080/"
        },
        "id": "yCFbwT6rxstZ",
        "outputId": "42b0bf70-8e1d-4eff-bac9-fc7c9cf716f5"
      },
      "source": [
        "ls -la"
      ],
      "execution_count": 49,
      "outputs": [
        {
          "output_type": "stream",
          "text": [
            "total 64\n",
            "drwxr-xr-x 2 root root 4096 Mar 29 11:34 \u001b[0m\u001b[01;34m.\u001b[0m/\n",
            "drwxr-xr-x 5 root root 4096 Mar 29 11:34 \u001b[01;34m..\u001b[0m/\n",
            "-rw-r--r-- 1 root root 2413 Mar 29 11:34 activate\n",
            "-rw-r--r-- 1 root root 1475 Mar 29 11:34 activate.csh\n",
            "-rw-r--r-- 1 root root 3106 Mar 29 11:34 activate.fish\n",
            "-rw-r--r-- 1 root root 1771 Mar 29 11:34 activate.ps1\n",
            "-rw-r--r-- 1 root root 1199 Mar 29 11:34 activate_this.py\n",
            "-rw-r--r-- 1 root root 1187 Mar 29 11:34 activate.xsh\n",
            "-rwxr-xr-x 1 root root  263 Mar 29 11:34 \u001b[01;32mpip\u001b[0m*\n",
            "-rwxr-xr-x 1 root root  263 Mar 29 11:34 \u001b[01;32mpip3\u001b[0m*\n",
            "-rwxr-xr-x 1 root root  263 Mar 29 11:34 \u001b[01;32mpip-3.7\u001b[0m*\n",
            "-rwxr-xr-x 1 root root  263 Mar 29 11:34 \u001b[01;32mpip3.7\u001b[0m*\n",
            "lrwxrwxrwx 1 root root   16 Mar 29 11:34 \u001b[01;36mpython\u001b[0m -> \u001b[01;32m/usr/bin/python3\u001b[0m*\n",
            "lrwxrwxrwx 1 root root    6 Mar 29 11:34 \u001b[01;36mpython3\u001b[0m -> \u001b[01;32mpython\u001b[0m*\n",
            "lrwxrwxrwx 1 root root    6 Mar 29 11:34 \u001b[01;36mpython3.7\u001b[0m -> \u001b[01;32mpython\u001b[0m*\n",
            "-rwxr-xr-x 1 root root  250 Mar 29 11:34 \u001b[01;32mwheel\u001b[0m*\n",
            "-rwxr-xr-x 1 root root  250 Mar 29 11:34 \u001b[01;32mwheel3\u001b[0m*\n",
            "-rwxr-xr-x 1 root root  250 Mar 29 11:34 \u001b[01;32mwheel-3.7\u001b[0m*\n",
            "-rwxr-xr-x 1 root root  250 Mar 29 11:34 \u001b[01;32mwheel3.7\u001b[0m*\n"
          ],
          "name": "stdout"
        }
      ]
    },
    {
      "cell_type": "code",
      "metadata": {
        "id": "h8RBNUdoxxbB"
      },
      "source": [
        "!source ./activate"
      ],
      "execution_count": 50,
      "outputs": []
    },
    {
      "cell_type": "code",
      "metadata": {
        "id": "Dwpz4HHYdfPh"
      },
      "source": [
        "import chatterbot"
      ],
      "execution_count": 51,
      "outputs": []
    },
    {
      "cell_type": "code",
      "metadata": {
        "id": "iJQyxNHfwyMe"
      },
      "source": [
        "from chatterbot import ChatBot\n",
        "#from chattetbot.trainers import ListTrainer"
      ],
      "execution_count": 52,
      "outputs": []
    },
    {
      "cell_type": "markdown",
      "metadata": {
        "id": "f_S3F6EHfe5V"
      },
      "source": [
        "The main class ChatBot is a connecting point between each of ChatterBot’s adapters. In this class, an input statement is processed and stored by the logic adapter and storage adapter. A response to the input is then generated and returned.\n",
        "\n",
        "A conversational dialog chat bot.\n",
        "\n",
        "Parameters:\t\n",
        "name (str) – A name is the only required parameter for the ChatBot class.\n",
        "\n",
        "storage_adapter (str) – The dot-notated import path to a storage adapter class. Defaults to \"chatterbot.storage.SQLStorageAdapter\".\n",
        "\n",
        "logic_adapters (list) – A list of dot-notated import paths to each logic adapter the bot uses. Defaults to [\"chatterbot.logic.BestMatch\"].\n",
        "\n",
        "logger (logging.Logger) – A Logger object.\n"
      ]
    },
    {
      "cell_type": "code",
      "metadata": {
        "id": "5R0uMFK8xWP_"
      },
      "source": [
        "chatbot=ChatBot(\"Ash\")\n",
        "#The only required parameter for the ChatBot is a name. This can be anything you want."
      ],
      "execution_count": 53,
      "outputs": []
    },
    {
      "cell_type": "markdown",
      "metadata": {
        "id": "U-Ofm7tAy67a"
      },
      "source": [
        "# Training chatbot\n",
        "Training is a good way to ensure that the bot starts off with knowledge about specific responses. The current training method takes a list of statements that represent a conversation.\n",
        "\n"
      ]
    },
    {
      "cell_type": "markdown",
      "metadata": {
        "id": "61bajZDsX61y"
      },
      "source": [
        "# Training classes\n",
        "**Training via list data**\n",
        "chatterbot.trainers.ListTrainer(chatbot, **kwargs)\n",
        "\n",
        "Allows a chat bot to be trained using a list of strings where the list represents a conversation.\n",
        "\n",
        "For the training process, you will need to pass in a list of statements where the order of each statement is based on its placement in a given conversation."
      ]
    },
    {
      "cell_type": "code",
      "metadata": {
        "colab": {
          "base_uri": "https://localhost:8080/"
        },
        "id": "RoF7xOWCy-CQ",
        "outputId": "575e1c89-5f55-4bdf-f869-db66f590f72c"
      },
      "source": [
        "from chatterbot.trainers import ListTrainer\n",
        "\n",
        "conversation=[\n",
        "              \"Hello\",\n",
        "              \"Hi there!\",\n",
        "              \"How are you doing?\",\n",
        "              \"I'm doing great.\",\n",
        "              \"That is good to hear\",\n",
        "              \"Thank you.\"\n",
        "              \"You're welcome.\"\n",
        "]\n",
        "\n",
        "trainer= ListTrainer(chatbot)\n",
        "trainer.train(conversation)"
      ],
      "execution_count": 54,
      "outputs": [
        {
          "output_type": "stream",
          "text": [
            "List Trainer: [####################] 100%\n"
          ],
          "name": "stdout"
        }
      ]
    },
    {
      "cell_type": "markdown",
      "metadata": {
        "id": "Tl4LZzaneo5q"
      },
      "source": [
        ""
      ]
    },
    {
      "cell_type": "code",
      "metadata": {
        "colab": {
          "base_uri": "https://localhost:8080/"
        },
        "id": "711IAyMMzpet",
        "outputId": "02a68b9c-5458-43cc-ba3f-19f239fde684"
      },
      "source": [
        "#Getting a response\n",
        "response=chatbot.get_response(\"Good day!\")\n",
        "print(response)"
      ],
      "execution_count": 55,
      "outputs": [
        {
          "output_type": "stream",
          "text": [
            "INFO:chatterbot.chatterbot:Beginning search for close text match\n",
            "INFO:chatterbot.chatterbot:Processing search results\n",
            "INFO:chatterbot.chatterbot:Using \"Good day!\" as a close match to \"Good day!\" with a confidence of 0\n",
            "INFO:chatterbot.chatterbot:No responses found. Generating alternate response list.\n",
            "INFO:chatterbot.chatterbot:No known response to the input was found. Selecting a random response.\n",
            "INFO:chatterbot.chatterbot:BestMatch selected \"I'm doing great.\" as a response with a confidence of 0\n",
            "INFO:chatterbot.chatterbot:Adding \"Good day!\" as a response to \"None\"\n"
          ],
          "name": "stderr"
        },
        {
          "output_type": "stream",
          "text": [
            "I'm doing great.\n"
          ],
          "name": "stdout"
        }
      ]
    },
    {
      "cell_type": "markdown",
      "metadata": {
        "id": "lLAu-2ira8dS"
      },
      "source": [
        "**Training with corpus data**\n",
        "\n",
        "chatterbot.trainers.ChatterBotCorpusTrainer(chatbot, **kwargs)\n",
        "\n",
        "Allows the chat bot to be trained using data from the ChatterBot dialog corpus.\n",
        "\n",
        "ChatterBot comes with a corpus data and utility module that makes it easy to quickly train your bot to communicate. To do so, simply specify the corpus data modules you want to use.\n",
        "\n"
      ]
    },
    {
      "cell_type": "code",
      "metadata": {
        "id": "zooqXxGPbQt9"
      },
      "source": [
        "chatbot=ChatBot('Training Example')"
      ],
      "execution_count": 56,
      "outputs": []
    },
    {
      "cell_type": "code",
      "metadata": {
        "colab": {
          "base_uri": "https://localhost:8080/",
          "height": 374
        },
        "id": "k411bhNMcPq8",
        "outputId": "73756b01-8782-4c40-9310-0cf86fe430f3"
      },
      "source": [
        "from chatterbot import ChatBot\n",
        "from chatterbot.trainers import ChatterBotCorpusTrainer\n",
        "import logging\n",
        "\n",
        "#Enable info level logging\n",
        "logging.basicConfig(level=logging.INFO)\n",
        "\n",
        "chatbot= ChatBot('Ash')\n",
        "\n",
        "trainer= ChatterBotCorpusTrainer(chatbot)\n",
        "\n",
        "trainer.train(\n",
        "    \"chatterbot.corpus.english\"\n",
        ")\n",
        "\n",
        "response=chatbot.get_response('How are you doing?')\n",
        "print(response)"
      ],
      "execution_count": 57,
      "outputs": [
        {
          "output_type": "error",
          "ename": "FileNotFoundError",
          "evalue": "ignored",
          "traceback": [
            "\u001b[0;31m---------------------------------------------------------------------------\u001b[0m",
            "\u001b[0;31mFileNotFoundError\u001b[0m                         Traceback (most recent call last)",
            "\u001b[0;32m<ipython-input-57-63439f4f9bbe>\u001b[0m in \u001b[0;36m<module>\u001b[0;34m()\u001b[0m\n\u001b[1;32m     11\u001b[0m \u001b[0;34m\u001b[0m\u001b[0m\n\u001b[1;32m     12\u001b[0m trainer.train(\n\u001b[0;32m---> 13\u001b[0;31m     \u001b[0;34m\"chatterbot.corpus.english\"\u001b[0m\u001b[0;34m\u001b[0m\u001b[0;34m\u001b[0m\u001b[0m\n\u001b[0m\u001b[1;32m     14\u001b[0m )\n\u001b[1;32m     15\u001b[0m \u001b[0;34m\u001b[0m\u001b[0m\n",
            "\u001b[0;32m/usr/local/lib/python3.7/dist-packages/chatterbot/trainers.py\u001b[0m in \u001b[0;36mtrain\u001b[0;34m(self, *corpus_paths)\u001b[0m\n\u001b[1;32m    133\u001b[0m             \u001b[0mdata_file_paths\u001b[0m\u001b[0;34m.\u001b[0m\u001b[0mextend\u001b[0m\u001b[0;34m(\u001b[0m\u001b[0mlist_corpus_files\u001b[0m\u001b[0;34m(\u001b[0m\u001b[0mcorpus_path\u001b[0m\u001b[0;34m)\u001b[0m\u001b[0;34m)\u001b[0m\u001b[0;34m\u001b[0m\u001b[0;34m\u001b[0m\u001b[0m\n\u001b[1;32m    134\u001b[0m \u001b[0;34m\u001b[0m\u001b[0m\n\u001b[0;32m--> 135\u001b[0;31m         \u001b[0;32mfor\u001b[0m \u001b[0mcorpus\u001b[0m\u001b[0;34m,\u001b[0m \u001b[0mcategories\u001b[0m\u001b[0;34m,\u001b[0m \u001b[0mfile_path\u001b[0m \u001b[0;32min\u001b[0m \u001b[0mload_corpus\u001b[0m\u001b[0;34m(\u001b[0m\u001b[0;34m*\u001b[0m\u001b[0mdata_file_paths\u001b[0m\u001b[0;34m)\u001b[0m\u001b[0;34m:\u001b[0m\u001b[0;34m\u001b[0m\u001b[0;34m\u001b[0m\u001b[0m\n\u001b[0m\u001b[1;32m    136\u001b[0m \u001b[0;34m\u001b[0m\u001b[0m\n\u001b[1;32m    137\u001b[0m             \u001b[0mstatements_to_create\u001b[0m \u001b[0;34m=\u001b[0m \u001b[0;34m[\u001b[0m\u001b[0;34m]\u001b[0m\u001b[0;34m\u001b[0m\u001b[0;34m\u001b[0m\u001b[0m\n",
            "\u001b[0;32m/usr/local/lib/python3.7/dist-packages/chatterbot/corpus.py\u001b[0m in \u001b[0;36mload_corpus\u001b[0;34m(*data_file_paths)\u001b[0m\n\u001b[1;32m     82\u001b[0m     \u001b[0;32mfor\u001b[0m \u001b[0mfile_path\u001b[0m \u001b[0;32min\u001b[0m \u001b[0mdata_file_paths\u001b[0m\u001b[0;34m:\u001b[0m\u001b[0;34m\u001b[0m\u001b[0;34m\u001b[0m\u001b[0m\n\u001b[1;32m     83\u001b[0m         \u001b[0mcorpus\u001b[0m \u001b[0;34m=\u001b[0m \u001b[0;34m[\u001b[0m\u001b[0;34m]\u001b[0m\u001b[0;34m\u001b[0m\u001b[0;34m\u001b[0m\u001b[0m\n\u001b[0;32m---> 84\u001b[0;31m         \u001b[0mcorpus_data\u001b[0m \u001b[0;34m=\u001b[0m \u001b[0mread_corpus\u001b[0m\u001b[0;34m(\u001b[0m\u001b[0mfile_path\u001b[0m\u001b[0;34m)\u001b[0m\u001b[0;34m\u001b[0m\u001b[0;34m\u001b[0m\u001b[0m\n\u001b[0m\u001b[1;32m     85\u001b[0m \u001b[0;34m\u001b[0m\u001b[0m\n\u001b[1;32m     86\u001b[0m         \u001b[0mconversations\u001b[0m \u001b[0;34m=\u001b[0m \u001b[0mcorpus_data\u001b[0m\u001b[0;34m.\u001b[0m\u001b[0mget\u001b[0m\u001b[0;34m(\u001b[0m\u001b[0;34m'conversations'\u001b[0m\u001b[0;34m,\u001b[0m \u001b[0;34m[\u001b[0m\u001b[0;34m]\u001b[0m\u001b[0;34m)\u001b[0m\u001b[0;34m\u001b[0m\u001b[0;34m\u001b[0m\u001b[0m\n",
            "\u001b[0;32m/usr/local/lib/python3.7/dist-packages/chatterbot/corpus.py\u001b[0m in \u001b[0;36mread_corpus\u001b[0;34m(file_name)\u001b[0m\n\u001b[1;32m     56\u001b[0m         \u001b[0;32mraise\u001b[0m \u001b[0mOptionalDependencyImportError\u001b[0m\u001b[0;34m(\u001b[0m\u001b[0mmessage\u001b[0m\u001b[0;34m)\u001b[0m\u001b[0;34m\u001b[0m\u001b[0;34m\u001b[0m\u001b[0m\n\u001b[1;32m     57\u001b[0m \u001b[0;34m\u001b[0m\u001b[0m\n\u001b[0;32m---> 58\u001b[0;31m     \u001b[0;32mwith\u001b[0m \u001b[0mio\u001b[0m\u001b[0;34m.\u001b[0m\u001b[0mopen\u001b[0m\u001b[0;34m(\u001b[0m\u001b[0mfile_name\u001b[0m\u001b[0;34m,\u001b[0m \u001b[0mencoding\u001b[0m\u001b[0;34m=\u001b[0m\u001b[0;34m'utf-8'\u001b[0m\u001b[0;34m)\u001b[0m \u001b[0;32mas\u001b[0m \u001b[0mdata_file\u001b[0m\u001b[0;34m:\u001b[0m\u001b[0;34m\u001b[0m\u001b[0;34m\u001b[0m\u001b[0m\n\u001b[0m\u001b[1;32m     59\u001b[0m         \u001b[0;32mreturn\u001b[0m \u001b[0myaml\u001b[0m\u001b[0;34m.\u001b[0m\u001b[0mload\u001b[0m\u001b[0;34m(\u001b[0m\u001b[0mdata_file\u001b[0m\u001b[0;34m)\u001b[0m\u001b[0;34m\u001b[0m\u001b[0;34m\u001b[0m\u001b[0m\n\u001b[1;32m     60\u001b[0m \u001b[0;34m\u001b[0m\u001b[0m\n",
            "\u001b[0;31mFileNotFoundError\u001b[0m: [Errno 2] No such file or directory: '/root/chatterbot_corpus/data/english'"
          ]
        }
      ]
    },
    {
      "cell_type": "markdown",
      "metadata": {
        "id": "7A814E302-2w"
      },
      "source": [
        "# Setting the storage adapter\n",
        "ChatterBot comes with built in adapter classes that allow it to connect to different types of databases. In this tutorial, we will be using the SQLStorageAdapter which allows the chat bot to connect to SQL databases. By default, this adapter will create a SQLite database.\n",
        "\n",
        "The database parameter is used to specify the path to the database that the chat bot will use. For this example we will call the database sqlite:///database.sqlite3. this file will be created automatically if it doesn’t already exist."
      ]
    },
    {
      "cell_type": "code",
      "metadata": {
        "id": "65P5mRKe2-Vq"
      },
      "source": [
        "bot = ChatBot(\n",
        "    'Ash',\n",
        "    storage_adapter='chatterbot.storage.SQLStorageAdapter',\n",
        "    database_uri='sqlite:///database.sqlite3'\n",
        ")"
      ],
      "execution_count": 10,
      "outputs": []
    },
    {
      "cell_type": "code",
      "metadata": {
        "id": "IZKwxUrZz6Vb"
      },
      "source": [
        "#specifying logic adapters\n",
        "#In ChatterBot, a logic adapter is a class that takes an input statement and returns a response to that statement.\n",
        "#The TimeLogicAdapter returns the current time when the input statement asks for it. The MathematicalEvaluation adapter solves math problems that use basic operations.\n",
        "bot= ChatBot(\n",
        "    'Ash',\n",
        "    storage_adapter='chatterbot.storage.SQLStorageAdapter',\n",
        "    logic_adapters=[\n",
        "                    'chatterbot.logic.MathematicalEvaluation',\n",
        "                    'chatterbot.logic.TimeLogicAdapter'\n",
        "    ],\n",
        "    database_uri='sqlite:///database.sqlite3'\n",
        ")"
      ],
      "execution_count": 11,
      "outputs": []
    },
    {
      "cell_type": "code",
      "metadata": {
        "id": "HwefQ7fE475p",
        "colab": {
          "base_uri": "https://localhost:8080/"
        },
        "outputId": "9f1dd5d9-2edd-4922-c452-5690eb333bd8"
      },
      "source": [
        "#Next, you will want to create a while loop for your chat bot to run in. By breaking out of the loop when specific exceptions are triggered, we can exit the loop and stop the program when a user enters ctrl+c.\n",
        "while True:\n",
        "    try:\n",
        "        bot_input=bot.get_response(input())\n",
        "        print(bot_input)\n",
        "\n",
        "    except(KeyboardInterrupt,EOFError,SystemExit):\n",
        "        break"
      ],
      "execution_count": 12,
      "outputs": [
        {
          "output_type": "stream",
          "text": [
            "\u0004\n"
          ],
          "name": "stdout"
        }
      ]
    },
    {
      "cell_type": "code",
      "metadata": {
        "colab": {
          "base_uri": "https://localhost:8080/"
        },
        "id": "lz7QBdYX5TBL",
        "outputId": "2c7e42dd-560c-4c3f-9ad2-21e6fbfae15c"
      },
      "source": [
        "#Training your chatbot\n",
        "from chatterbot.trainers import ListTrainer\n",
        "trainer= ListTrainer(bot)\n",
        "trainer.train(conversation)"
      ],
      "execution_count": 13,
      "outputs": [
        {
          "output_type": "stream",
          "text": [
            "List Trainer: [####################] 100%\n"
          ],
          "name": "stdout"
        }
      ]
    },
    {
      "cell_type": "code",
      "metadata": {
        "colab": {
          "base_uri": "https://localhost:8080/"
        },
        "id": "Im1MZi1r6RyS",
        "outputId": "2924c8d9-9936-4db8-c56b-8eb38e4900fe"
      },
      "source": [
        "from chatterbot import ChatBot\n",
        "from chatterbot.trainers import ListTrainer\n",
        "\n",
        "chatbot=ChatBot('Ash')\n",
        "\n",
        "trainer=ListTrainer(chatbot)\n",
        "\n",
        "trainer.train([\n",
        "               \"Hi,how can I help you?\",\n",
        "               \"Hi,I'd like to book a flight to Iceland.\",\n",
        "               \"Your flight has been booked.\"\n",
        "])\n",
        "\n",
        "response=chatbot.get_response('I would like to book a flight.')\n",
        "print(response)"
      ],
      "execution_count": 14,
      "outputs": [
        {
          "output_type": "stream",
          "text": [
            "List Trainer: [####################] 100%\n",
            "Your flight has been booked.\n"
          ],
          "name": "stdout"
        }
      ]
    },
    {
      "cell_type": "code",
      "metadata": {
        "colab": {
          "base_uri": "https://localhost:8080/"
        },
        "id": "hYX4-RF17QVH",
        "outputId": "7054376c-3171-4ad7-cfb7-c0605f81f395"
      },
      "source": [
        "#Terminal example\n",
        "from chatterbot import ChatBot\n",
        "import logging\n",
        "logging.basicConfig(level=logging.INFO)\n",
        "\n",
        "bot= ChatBot(\n",
        "    'Terminal',\n",
        "    storage_adapter='chatterbot.storage.SQLStorageAdapter',\n",
        "    logic_adapters=[\n",
        "                    'chatterbot.logic.MathematicalEvaluation',\n",
        "                    'chatterbot.logic.TimeLogicAdapter',\n",
        "                    'chatterbot.logic.BestMatch'\n",
        "\n",
        "    ],\n",
        "    database_uri='sqlite:///database.db'\n",
        ")\n",
        "\n",
        "#chatterbot.logic.BestMatch: #A logic adapter that returns a response based on known responses to the closest matches to the input statement.\n",
        "#How it works\n",
        "#The best match adapter uses a function to compare the input statement to known statements. Once it finds the closest match to the input statement, it uses another function to select one of the known responses to that statement.\n",
        "\n",
        "print('Type something to begin:')\n",
        "\n",
        "#the following loop will execute every time the user enters input\n",
        "while True:\n",
        "    try:\n",
        "        user_input=input()\n",
        "        bot_response=bot.get_response(user_input)\n",
        "        print(bot_response)\n",
        "    except(KeyboardInterrupt,EOFError,SystemExit): #ctrl+d to stop\n",
        "        break"
      ],
      "execution_count": 15,
      "outputs": [
        {
          "output_type": "stream",
          "text": [
            "Type something to begin:\n",
            "\u0004\n"
          ],
          "name": "stdout"
        }
      ]
    },
    {
      "cell_type": "code",
      "metadata": {
        "id": "zaTzKx1KVyx_"
      },
      "source": [
        "#Using MongoDB\n",
        "storage_adapter=\"chatterbot.storage.MongoDatabaseAdapter\"\n",
        "from chatterbot import ChatBot\n",
        "import logging \n",
        "logging.basicConfig(level=logging.INFO)\n",
        "\n",
        "bot=ChatBot(\n",
        "    'Terminal',\n",
        "    storage_adapter='chatterbot.storage.MongoDatabaseAdapter',\n",
        "    logic_adapters=[\n",
        "                    'chatterbot.logic.BestMatch'\n",
        "    ],\n",
        "    database_uri='mongodb://localhost:27017/chatterbot-database'\n",
        "    #uri: uniform resource identifier\n",
        ")\n",
        "\n",
        "print('Type something to begin...')\n",
        "\n",
        "while True:\n",
        "    try:\n",
        "        user_input=input()\n",
        "        bot_response=bot.get_response(user_input)\n",
        "        print(bot_response)\n",
        "    except (KeyboardInterrupt,EOFError,SystemExit):\n",
        "        break\n"
      ],
      "execution_count": null,
      "outputs": []
    },
    {
      "cell_type": "code",
      "metadata": {
        "id": "Gta14CdOZLc9"
      },
      "source": [
        "import pymongo\n",
        "from pymongo import MongoClient\n",
        "#uri defines connection parameters\n",
        "database_uri='mongodb://localhost:27017/chatterbot-database'\n",
        "#start client to connect to mongodb server\n",
        "client= MongoClient(database_uri)\n",
        "client.stats"
      ],
      "execution_count": null,
      "outputs": []
    },
    {
      "cell_type": "code",
      "metadata": {
        "id": "0_AbPFhGhbNH"
      },
      "source": [
        "from chatterbot import ChatBot\n",
        "import logging \n",
        "logging.basicConfig(level=logging.INFO)"
      ],
      "execution_count": null,
      "outputs": []
    },
    {
      "cell_type": "code",
      "metadata": {
        "id": "5jbLkWFHht4y"
      },
      "source": [
        "bot=ChatBot(\n",
        "    'Terminal',\n",
        "    storage_adapter='chatterbot.storage.MongoDatabaseAdapter',\n",
        "    logic_adapters=[\n",
        "                    'chatterbot.logic.BestMatch'\n",
        "    ],\n",
        "    database_uri='mongodb://localhost:27017/chatterbot-database'\n",
        "    #uri: uniform resource identifier\n",
        ")"
      ],
      "execution_count": null,
      "outputs": []
    },
    {
      "cell_type": "code",
      "metadata": {
        "colab": {
          "base_uri": "https://localhost:8080/"
        },
        "id": "fpvLV9g-4cB1",
        "outputId": "da617919-8bd8-4474-8d3f-737d2a6f0fe3"
      },
      "source": [
        "#Time and mathematics example\n",
        "bot = ChatBot(\n",
        "    'Math and Time Bot',\n",
        "    logic_adapters=[\n",
        "                    'chatterbot.logic.MathematicalEvaluation',\n",
        "                    'chatterbot.logic.TimeLogicAdapter'\n",
        "    ]\n",
        ")\n",
        "#Logic adapters determine the logic for how ChatterBot selects a response to a given input statement.\n",
        "\n",
        "#It is possible to enter any number of logic adapters for your bot to use. If multiple adapters are used, then the bot will return the response with the highest calculated confidence value. If multiple adapters return the same confidence, then the adapter that is entered into the list first will take priority.\n",
        "\n",
        "#confidence represents the proababilty of the response being correct for the input\n",
        "\n",
        "#TimeLogicAdapter: returns the current time\n",
        "#The TimeLogicAdapter identifies statements in which a question about the current time is asked. If a matching question is detected, then a response containing the current time is returned.\n",
        "\n",
        "#MathematicalEvaluation: parses input to determine whether the user is asking a question that requires math to be done. If so, the equation is extracted from the input and returned with the evaluated result.\n",
        "#The MathematicalEvaluation logic adapter checks a given statement to see if it contains a mathematical expression that can be evaluated. If one exists, then it returns a response containing the result. This adapter is able to handle any combination of word and numeric operators.\n",
        "\n",
        "#example of math based response\n",
        "print(\"8+9 ?\")\n",
        "response= bot.get_response('What is 8+9 ?')\n",
        "print(response)\n",
        "\n",
        "#example of time based response\n",
        "print(\"time?\")\n",
        "response=bot.get_response(\"What time is it?\")\n",
        "print(response)"
      ],
      "execution_count": 19,
      "outputs": [
        {
          "output_type": "stream",
          "text": [
            "INFO:chatterbot.chatterbot:Not processing the statement using MathematicalEvaluation\n",
            "INFO:chatterbot.chatterbot:TimeLogicAdapter selected \"The current time is 08:02 AM\" as a response with a confidence of 1\n",
            "INFO:chatterbot.chatterbot:Adding \"What is 8+9 ?\" as a response to \"What time is it?\"\n",
            "INFO:chatterbot.chatterbot:Not processing the statement using MathematicalEvaluation\n",
            "INFO:chatterbot.chatterbot:TimeLogicAdapter selected \"The current time is 08:02 AM\" as a response with a confidence of 1\n",
            "INFO:chatterbot.chatterbot:Adding \"What time is it?\" as a response to \"What is 8+9 ?\"\n"
          ],
          "name": "stderr"
        },
        {
          "output_type": "stream",
          "text": [
            "8+9 ?\n",
            "The current time is 08:02 AM\n",
            "time?\n",
            "The current time is 08:02 AM\n"
          ],
          "name": "stdout"
        }
      ]
    },
    {
      "cell_type": "code",
      "metadata": {
        "id": "8iYB0yqj6CJq",
        "colab": {
          "base_uri": "https://localhost:8080/",
          "height": 391
        },
        "outputId": "5fb4699f-f4fc-46e4-ff25-8d75a63811c3"
      },
      "source": [
        "#Math bot\n",
        "from chatterbot import ChatBot\n",
        "\n",
        "bot=ChatBot(\n",
        "    'Math Bot',\n",
        "    logic_adapters=[\n",
        "                    'chatterbot.logic.MathematicalEvaluation'\n",
        "    ]\n",
        ")\n",
        "\n",
        "response= bot.get_response('What is 8+9 ?')\n",
        "print(response)"
      ],
      "execution_count": 17,
      "outputs": [
        {
          "output_type": "stream",
          "text": [
            "INFO:chatterbot.chatterbot:Not processing the statement using MathematicalEvaluation\n"
          ],
          "name": "stderr"
        },
        {
          "output_type": "error",
          "ename": "AttributeError",
          "evalue": "ignored",
          "traceback": [
            "\u001b[0;31m---------------------------------------------------------------------------\u001b[0m",
            "\u001b[0;31mAttributeError\u001b[0m                            Traceback (most recent call last)",
            "\u001b[0;32m<ipython-input-17-1d1e3d3cd02d>\u001b[0m in \u001b[0;36m<module>\u001b[0;34m()\u001b[0m\n\u001b[1;32m      9\u001b[0m )\n\u001b[1;32m     10\u001b[0m \u001b[0;34m\u001b[0m\u001b[0m\n\u001b[0;32m---> 11\u001b[0;31m \u001b[0mresponse\u001b[0m\u001b[0;34m=\u001b[0m \u001b[0mbot\u001b[0m\u001b[0;34m.\u001b[0m\u001b[0mget_response\u001b[0m\u001b[0;34m(\u001b[0m\u001b[0;34m'What is 8+9 ?'\u001b[0m\u001b[0;34m)\u001b[0m\u001b[0;34m\u001b[0m\u001b[0;34m\u001b[0m\u001b[0m\n\u001b[0m\u001b[1;32m     12\u001b[0m \u001b[0mprint\u001b[0m\u001b[0;34m(\u001b[0m\u001b[0mresponse\u001b[0m\u001b[0;34m)\u001b[0m\u001b[0;34m\u001b[0m\u001b[0;34m\u001b[0m\u001b[0m\n",
            "\u001b[0;32m/usr/local/lib/python3.7/dist-packages/chatterbot/chatterbot.py\u001b[0m in \u001b[0;36mget_response\u001b[0;34m(self, statement, **kwargs)\u001b[0m\n\u001b[1;32m    112\u001b[0m             \u001b[0minput_statement\u001b[0m\u001b[0;34m.\u001b[0m\u001b[0msearch_in_response_to\u001b[0m \u001b[0;34m=\u001b[0m \u001b[0mself\u001b[0m\u001b[0;34m.\u001b[0m\u001b[0mstorage\u001b[0m\u001b[0;34m.\u001b[0m\u001b[0mtagger\u001b[0m\u001b[0;34m.\u001b[0m\u001b[0mget_bigram_pair_string\u001b[0m\u001b[0;34m(\u001b[0m\u001b[0minput_statement\u001b[0m\u001b[0;34m.\u001b[0m\u001b[0min_response_to\u001b[0m\u001b[0;34m)\u001b[0m\u001b[0;34m\u001b[0m\u001b[0;34m\u001b[0m\u001b[0m\n\u001b[1;32m    113\u001b[0m \u001b[0;34m\u001b[0m\u001b[0m\n\u001b[0;32m--> 114\u001b[0;31m         \u001b[0mresponse\u001b[0m \u001b[0;34m=\u001b[0m \u001b[0mself\u001b[0m\u001b[0;34m.\u001b[0m\u001b[0mgenerate_response\u001b[0m\u001b[0;34m(\u001b[0m\u001b[0minput_statement\u001b[0m\u001b[0;34m,\u001b[0m \u001b[0madditional_response_selection_parameters\u001b[0m\u001b[0;34m)\u001b[0m\u001b[0;34m\u001b[0m\u001b[0;34m\u001b[0m\u001b[0m\n\u001b[0m\u001b[1;32m    115\u001b[0m \u001b[0;34m\u001b[0m\u001b[0m\n\u001b[1;32m    116\u001b[0m         \u001b[0;31m# Update any response data that needs to be changed\u001b[0m\u001b[0;34m\u001b[0m\u001b[0;34m\u001b[0m\u001b[0;34m\u001b[0m\u001b[0m\n",
            "\u001b[0;32m/usr/local/lib/python3.7/dist-packages/chatterbot/chatterbot.py\u001b[0m in \u001b[0;36mgenerate_response\u001b[0;34m(self, input_statement, additional_response_selection_parameters)\u001b[0m\n\u001b[1;32m    196\u001b[0m \u001b[0;34m\u001b[0m\u001b[0m\n\u001b[1;32m    197\u001b[0m         response = Statement(\n\u001b[0;32m--> 198\u001b[0;31m             \u001b[0mtext\u001b[0m\u001b[0;34m=\u001b[0m\u001b[0mresult\u001b[0m\u001b[0;34m.\u001b[0m\u001b[0mtext\u001b[0m\u001b[0;34m,\u001b[0m\u001b[0;34m\u001b[0m\u001b[0;34m\u001b[0m\u001b[0m\n\u001b[0m\u001b[1;32m    199\u001b[0m             \u001b[0min_response_to\u001b[0m\u001b[0;34m=\u001b[0m\u001b[0minput_statement\u001b[0m\u001b[0;34m.\u001b[0m\u001b[0mtext\u001b[0m\u001b[0;34m,\u001b[0m\u001b[0;34m\u001b[0m\u001b[0;34m\u001b[0m\u001b[0m\n\u001b[1;32m    200\u001b[0m             \u001b[0mconversation\u001b[0m\u001b[0;34m=\u001b[0m\u001b[0minput_statement\u001b[0m\u001b[0;34m.\u001b[0m\u001b[0mconversation\u001b[0m\u001b[0;34m,\u001b[0m\u001b[0;34m\u001b[0m\u001b[0;34m\u001b[0m\u001b[0m\n",
            "\u001b[0;31mAttributeError\u001b[0m: 'NoneType' object has no attribute 'text'"
          ]
        }
      ]
    },
    {
      "cell_type": "code",
      "metadata": {
        "id": "tj7UGBH9fvLh",
        "colab": {
          "base_uri": "https://localhost:8080/"
        },
        "outputId": "8c171656-60fb-4e2c-945d-a4777703627e"
      },
      "source": [
        "#Using SQL Adapter\n",
        "import logging\n",
        "logging.basicConfig(level=logging.INFO)\n",
        "\n",
        "bot= ChatBot(\n",
        "    'SQLMemoryTerminal',\n",
        "    storage_adapter='chatterbot.storage.SQLStorageAdapter',\n",
        "    database_uri=None,\n",
        "    logic_adapters=[\n",
        "                    'chatterbot.logic.MathematicalEvaluation',\n",
        "                    'chatterbot.logic.TimeLogicAdapter',\n",
        "                    'chatterbot.logic.BestMatch'\n",
        "    ]\n",
        ")\n",
        "\n",
        "res=bot.get_response('What is the time?')\n",
        "print(res)\n",
        "res=bot.get_response(\"What is 7 + 1?\")\n",
        "print(res)"
      ],
      "execution_count": 23,
      "outputs": [
        {
          "output_type": "stream",
          "text": [
            "INFO:chatterbot.chatterbot:Not processing the statement using MathematicalEvaluation\n",
            "INFO:chatterbot.chatterbot:TimeLogicAdapter selected \"The current time is 08:10 AM\" as a response with a confidence of 1\n",
            "INFO:chatterbot.chatterbot:Beginning search for close text match\n",
            "INFO:chatterbot.chatterbot:Processing search results\n",
            "INFO:chatterbot.chatterbot:Using \"What is the time?\" as a close match to \"What is the time?\" with a confidence of 0\n",
            "INFO:chatterbot.chatterbot:No responses found. Generating alternate response list.\n",
            "INFO:chatterbot.chatterbot:No known response to the input was found. Selecting a random response.\n",
            "INFO:chatterbot.chatterbot:BestMatch selected \"What is the time?\" as a response with a confidence of 0\n",
            "INFO:chatterbot.chatterbot:Adding \"What is the time?\" as a response to \"None\"\n",
            "INFO:chatterbot.chatterbot:MathematicalEvaluation selected \"7 + 1 = 8\" as a response with a confidence of 1\n",
            "INFO:chatterbot.chatterbot:TimeLogicAdapter selected \"The current time is 08:10 AM\" as a response with a confidence of 1\n",
            "INFO:chatterbot.chatterbot:Beginning search for close text match\n",
            "INFO:chatterbot.chatterbot:Processing search results\n",
            "INFO:chatterbot.chatterbot:Similar text found: What is the time? 0.65\n",
            "INFO:chatterbot.chatterbot:Using \"What is the time?\" as a close match to \"What is 7 + 1?\" with a confidence of 0.65\n",
            "INFO:chatterbot.chatterbot:No responses found. Generating alternate response list.\n",
            "INFO:chatterbot.chatterbot:No known response to the input was found. Selecting a random response.\n",
            "INFO:chatterbot.chatterbot:BestMatch selected \"The current time is 08:10 AM\" as a response with a confidence of 0\n",
            "INFO:chatterbot.chatterbot:Adding \"What is 7 + 1?\" as a response to \"What is the time?\"\n"
          ],
          "name": "stderr"
        },
        {
          "output_type": "stream",
          "text": [
            "The current time is 08:10 AM\n",
            "7 + 1 = 8\n"
          ],
          "name": "stdout"
        }
      ]
    },
    {
      "cell_type": "code",
      "metadata": {
        "id": "R6hQ3JFGBoic"
      },
      "source": [
        "#Read only mode\n",
        "chatbot = ChatBot('Ash', read_only=True)"
      ],
      "execution_count": 25,
      "outputs": []
    },
    {
      "cell_type": "code",
      "metadata": {
        "id": "CMuLSX5xOI1S"
      },
      "source": [
        ""
      ],
      "execution_count": null,
      "outputs": []
    }
  ]
}