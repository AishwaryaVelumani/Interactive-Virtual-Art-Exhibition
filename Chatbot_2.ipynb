{
  "nbformat": 4,
  "nbformat_minor": 0,
  "metadata": {
    "colab": {
      "name": "Chatbot 2.ipynb",
      "provenance": [],
      "authorship_tag": "ABX9TyM8mhDZt5X5/WRhc/dhEXiR",
      "include_colab_link": true
    },
    "kernelspec": {
      "name": "python3",
      "display_name": "Python 3"
    },
    "language_info": {
      "name": "python"
    }
  },
  "cells": [
    {
      "cell_type": "markdown",
      "metadata": {
        "id": "view-in-github",
        "colab_type": "text"
      },
      "source": [
        "<a href=\"https://colab.research.google.com/github/AishwaryaVelumani/Interactive-Virtual-Art-Exhibition/blob/main/Chatbot_2.ipynb\" target=\"_parent\"><img src=\"https://colab.research.google.com/assets/colab-badge.svg\" alt=\"Open In Colab\"/></a>"
      ]
    },
    {
      "cell_type": "markdown",
      "metadata": {
        "id": "-f_OjBovv8xp"
      },
      "source": [
        "https://colab.research.google.com/github/soiqualang/colab/blob/master/chatbot_v1.ipynb\n",
        "\n",
        "https://viblo.asia/p/xay-dung-chatbot-voi-thu-vien-chatterbot-Qpmle2Vm5rd"
      ]
    },
    {
      "cell_type": "code",
      "metadata": {
        "colab": {
          "base_uri": "https://localhost:8080/"
        },
        "id": "Nu_qKWKZyLTD",
        "outputId": "17141efa-a470-4f98-c48e-e7d96af7cdf2"
      },
      "source": [
        "!pip install chatterbot"
      ],
      "execution_count": null,
      "outputs": [
        {
          "output_type": "stream",
          "text": [
            "Requirement already satisfied: chatterbot in /usr/local/lib/python3.7/dist-packages (1.0.8)\n",
            "Requirement already satisfied: mathparse<0.2,>=0.1 in /usr/local/lib/python3.7/dist-packages (from chatterbot) (0.1.2)\n",
            "Requirement already satisfied: sqlalchemy<1.4,>=1.3 in /usr/local/lib/python3.7/dist-packages (from chatterbot) (1.3.23)\n",
            "Requirement already satisfied: python-dateutil<2.9,>=2.8 in /usr/local/lib/python3.7/dist-packages (from chatterbot) (2.8.1)\n",
            "Requirement already satisfied: pytz in /usr/local/lib/python3.7/dist-packages (from chatterbot) (2018.9)\n",
            "Requirement already satisfied: six>=1.5 in /usr/local/lib/python3.7/dist-packages (from python-dateutil<2.9,>=2.8->chatterbot) (1.15.0)\n"
          ],
          "name": "stdout"
        }
      ]
    },
    {
      "cell_type": "code",
      "metadata": {
        "colab": {
          "base_uri": "https://localhost:8080/"
        },
        "id": "LIUT00qVyPLT",
        "outputId": "a7a3e710-48d4-44b8-f96d-73372f8c03f0"
      },
      "source": [
        "!python -m chatterbot --version"
      ],
      "execution_count": null,
      "outputs": [
        {
          "output_type": "stream",
          "text": [
            "Traceback (most recent call last):\n",
            "  File \"/usr/lib/python3.7/runpy.py\", line 193, in _run_module_as_main\n",
            "    \"__main__\", mod_spec)\n",
            "  File \"/usr/lib/python3.7/runpy.py\", line 85, in _run_code\n",
            "    exec(code, run_globals)\n",
            "  File \"/usr/local/lib/python3.7/dist-packages/chatterbot/__main__.py\", line 20, in <module>\n",
            "    print(get_chatterbot_version())\n",
            "  File \"/usr/local/lib/python3.7/dist-packages/chatterbot/__main__.py\", line 15, in get_chatterbot_version\n",
            "    return config['chatterbot']['version']\n",
            "  File \"/usr/lib/python3.7/configparser.py\", line 958, in __getitem__\n",
            "    raise KeyError(key)\n",
            "KeyError: 'chatterbot'\n"
          ],
          "name": "stdout"
        }
      ]
    },
    {
      "cell_type": "code",
      "metadata": {
        "colab": {
          "base_uri": "https://localhost:8080/"
        },
        "id": "vTdMy-AmyVuG",
        "outputId": "cdcdb4d8-5045-48e9-910c-ef42e4f4e076"
      },
      "source": [
        "!pip install chatterbot --upgrade"
      ],
      "execution_count": null,
      "outputs": [
        {
          "output_type": "stream",
          "text": [
            "Requirement already up-to-date: chatterbot in /usr/local/lib/python3.7/dist-packages (1.0.8)\n",
            "Requirement already satisfied, skipping upgrade: python-dateutil<2.9,>=2.8 in /usr/local/lib/python3.7/dist-packages (from chatterbot) (2.8.1)\n",
            "Requirement already satisfied, skipping upgrade: sqlalchemy<1.4,>=1.3 in /usr/local/lib/python3.7/dist-packages (from chatterbot) (1.3.23)\n",
            "Requirement already satisfied, skipping upgrade: mathparse<0.2,>=0.1 in /usr/local/lib/python3.7/dist-packages (from chatterbot) (0.1.2)\n",
            "Requirement already satisfied, skipping upgrade: pytz in /usr/local/lib/python3.7/dist-packages (from chatterbot) (2018.9)\n",
            "Requirement already satisfied, skipping upgrade: six>=1.5 in /usr/local/lib/python3.7/dist-packages (from python-dateutil<2.9,>=2.8->chatterbot) (1.15.0)\n"
          ],
          "name": "stdout"
        }
      ]
    },
    {
      "cell_type": "code",
      "metadata": {
        "colab": {
          "base_uri": "https://localhost:8080/"
        },
        "id": "blBn4SgQyYfo",
        "outputId": "85ccb8d5-3a8a-4832-e7d5-dbd1e5f52369"
      },
      "source": [
        "!pip install chatterbot"
      ],
      "execution_count": null,
      "outputs": [
        {
          "output_type": "stream",
          "text": [
            "Requirement already satisfied: chatterbot in /usr/local/lib/python3.7/dist-packages (1.0.8)\n",
            "Requirement already satisfied: sqlalchemy<1.4,>=1.3 in /usr/local/lib/python3.7/dist-packages (from chatterbot) (1.3.23)\n",
            "Requirement already satisfied: mathparse<0.2,>=0.1 in /usr/local/lib/python3.7/dist-packages (from chatterbot) (0.1.2)\n",
            "Requirement already satisfied: pytz in /usr/local/lib/python3.7/dist-packages (from chatterbot) (2018.9)\n",
            "Requirement already satisfied: python-dateutil<2.9,>=2.8 in /usr/local/lib/python3.7/dist-packages (from chatterbot) (2.8.1)\n",
            "Requirement already satisfied: six>=1.5 in /usr/local/lib/python3.7/dist-packages (from python-dateutil<2.9,>=2.8->chatterbot) (1.15.0)\n"
          ],
          "name": "stdout"
        }
      ]
    },
    {
      "cell_type": "code",
      "metadata": {
        "colab": {
          "base_uri": "https://localhost:8080/"
        },
        "id": "QDr9enL3ybOV",
        "outputId": "e58922be-3d68-4a50-bfe7-15a365a66213"
      },
      "source": [
        "!pip install pyyaml"
      ],
      "execution_count": null,
      "outputs": [
        {
          "output_type": "stream",
          "text": [
            "Requirement already satisfied: pyyaml in /usr/local/lib/python3.7/dist-packages (3.13)\n"
          ],
          "name": "stdout"
        }
      ]
    },
    {
      "cell_type": "code",
      "metadata": {
        "colab": {
          "base_uri": "https://localhost:8080/"
        },
        "id": "jjQd1dtzyfpw",
        "outputId": "fa6f17ce-90ce-4f0c-ac06-baf1fc9716c2"
      },
      "source": [
        "!pip install pipenv"
      ],
      "execution_count": null,
      "outputs": [
        {
          "output_type": "stream",
          "text": [
            "Collecting pipenv\n",
            "\u001b[?25l  Downloading https://files.pythonhosted.org/packages/df/c5/2ebf6fcab61826a6e886531d67bb9776b4027c3094fbf2fbbaa2c9075d92/pipenv-2020.11.15-py2.py3-none-any.whl (3.9MB)\n",
            "\u001b[K     |████████████████████████████████| 3.9MB 6.1MB/s \n",
            "\u001b[?25hCollecting virtualenv\n",
            "\u001b[?25l  Downloading https://files.pythonhosted.org/packages/91/fb/ca6c071f4231e06a9f0c3bd81c15c233bbacd4a7d9dbb7438d95fece8a1e/virtualenv-20.4.3-py2.py3-none-any.whl (7.2MB)\n",
            "\u001b[K     |████████████████████████████████| 7.2MB 47.2MB/s \n",
            "\u001b[?25hRequirement already satisfied: certifi in /usr/local/lib/python3.7/dist-packages (from pipenv) (2020.12.5)\n",
            "Requirement already satisfied: setuptools>=36.2.1 in /usr/local/lib/python3.7/dist-packages (from pipenv) (54.1.2)\n",
            "Collecting virtualenv-clone>=0.2.5\n",
            "  Downloading https://files.pythonhosted.org/packages/83/b8/cd931487d250565392c39409117436d910232c8a3ac09ea2fb62a6c47bff/virtualenv_clone-0.5.4-py2.py3-none-any.whl\n",
            "Requirement already satisfied: pip>=18.0 in /usr/local/lib/python3.7/dist-packages (from pipenv) (19.3.1)\n",
            "Requirement already satisfied: filelock<4,>=3.0.0 in /usr/local/lib/python3.7/dist-packages (from virtualenv->pipenv) (3.0.12)\n",
            "Collecting distlib<1,>=0.3.1\n",
            "\u001b[?25l  Downloading https://files.pythonhosted.org/packages/f5/0a/490fa011d699bb5a5f3a0cf57de82237f52a6db9d40f33c53b2736c9a1f9/distlib-0.3.1-py2.py3-none-any.whl (335kB)\n",
            "\u001b[K     |████████████████████████████████| 337kB 46.2MB/s \n",
            "\u001b[?25hRequirement already satisfied: six<2,>=1.9.0 in /usr/local/lib/python3.7/dist-packages (from virtualenv->pipenv) (1.15.0)\n",
            "Requirement already satisfied: appdirs<2,>=1.4.3 in /usr/local/lib/python3.7/dist-packages (from virtualenv->pipenv) (1.4.4)\n",
            "Requirement already satisfied: importlib-metadata>=0.12; python_version < \"3.8\" in /usr/local/lib/python3.7/dist-packages (from virtualenv->pipenv) (3.7.2)\n",
            "Requirement already satisfied: typing-extensions>=3.6.4; python_version < \"3.8\" in /usr/local/lib/python3.7/dist-packages (from importlib-metadata>=0.12; python_version < \"3.8\"->virtualenv->pipenv) (3.7.4.3)\n",
            "Requirement already satisfied: zipp>=0.5 in /usr/local/lib/python3.7/dist-packages (from importlib-metadata>=0.12; python_version < \"3.8\"->virtualenv->pipenv) (3.4.1)\n",
            "Installing collected packages: distlib, virtualenv, virtualenv-clone, pipenv\n",
            "Successfully installed distlib-0.3.1 pipenv-2020.11.15 virtualenv-20.4.3 virtualenv-clone-0.5.4\n"
          ],
          "name": "stdout"
        }
      ]
    },
    {
      "cell_type": "code",
      "metadata": {
        "colab": {
          "base_uri": "https://localhost:8080/"
        },
        "id": "RyBJyc-vyiMV",
        "outputId": "22662683-b753-4950-ac16-4592d6e384b5"
      },
      "source": [
        "!pip install chatterbot-corpus"
      ],
      "execution_count": null,
      "outputs": [
        {
          "output_type": "stream",
          "text": [
            "Collecting chatterbot-corpus\n",
            "\u001b[?25l  Downloading https://files.pythonhosted.org/packages/ed/19/f8b41daf36fe4b0f43e283a820362ffdb2c1128600ab4ee187e84262fa4d/chatterbot_corpus-1.2.0-py2.py3-none-any.whl (117kB)\n",
            "\r\u001b[K     |██▉                             | 10kB 13.9MB/s eta 0:00:01\r\u001b[K     |█████▋                          | 20kB 11.4MB/s eta 0:00:01\r\u001b[K     |████████▍                       | 30kB 7.4MB/s eta 0:00:01\r\u001b[K     |███████████▏                    | 40kB 6.7MB/s eta 0:00:01\r\u001b[K     |██████████████                  | 51kB 4.7MB/s eta 0:00:01\r\u001b[K     |████████████████▊               | 61kB 5.0MB/s eta 0:00:01\r\u001b[K     |███████████████████▋            | 71kB 5.3MB/s eta 0:00:01\r\u001b[K     |██████████████████████▍         | 81kB 5.4MB/s eta 0:00:01\r\u001b[K     |█████████████████████████▏      | 92kB 5.3MB/s eta 0:00:01\r\u001b[K     |████████████████████████████    | 102kB 5.5MB/s eta 0:00:01\r\u001b[K     |██████████████████████████████▊ | 112kB 5.5MB/s eta 0:00:01\r\u001b[K     |████████████████████████████████| 122kB 5.5MB/s \n",
            "\u001b[?25hRequirement already satisfied: PyYAML<4.0,>=3.12 in /usr/local/lib/python3.7/dist-packages (from chatterbot-corpus) (3.13)\n",
            "Installing collected packages: chatterbot-corpus\n",
            "Successfully installed chatterbot-corpus-1.2.0\n"
          ],
          "name": "stdout"
        }
      ]
    },
    {
      "cell_type": "code",
      "metadata": {
        "colab": {
          "base_uri": "https://localhost:8080/"
        },
        "id": "ojVXy8krylK-",
        "outputId": "40fe51f9-345b-4926-8f0c-f34bbfcfc59f"
      },
      "source": [
        "!pipenv install git+https://github.com/gunthercox/chatterbot-corpus.git#egg=chatterbot-corpus"
      ],
      "execution_count": null,
      "outputs": [
        {
          "output_type": "stream",
          "text": [
            "\u001b[39m\u001b[1mCreating a virtualenv for this project...\u001b[39m\u001b[22m\n",
            "Pipfile: \u001b[33m\u001b[1m/content/Pipfile\u001b[39m\u001b[22m\n",
            "\u001b[39m\u001b[1mUsing\u001b[39m\u001b[22m \u001b[33m\u001b[1m/usr/bin/python3\u001b[39m\u001b[22m \u001b[32m\u001b[22m(3.7.10)\u001b[39m\u001b[22m \u001b[39m\u001b[1mto create virtualenv...\u001b[39m\u001b[22m\n",
            "⠧\u001b[0m Creating virtual environment...\u001b[K\u001b[36m\u001b[22mcreated virtual environment CPython3.7.10.final.0-64 in 1058ms\n",
            "  creator CPython3Posix(dest=/root/.local/share/virtualenvs/content-cQIIIOO2, clear=False, no_vcs_ignore=False, global=False)\n",
            "  seeder FromAppData(download=False, pip=bundle, setuptools=bundle, wheel=bundle, via=copy, app_data_dir=/root/.local/share/virtualenv)\n",
            "    added seed packages: pip==21.0.1, setuptools==54.1.2, wheel==0.36.2\n",
            "  activators BashActivator,CShellActivator,FishActivator,PowerShellActivator,PythonActivator,XonshActivator\n",
            "\u001b[39m\u001b[22m\n",
            "\u001b[K\u001b[?25h\u001b[32m\u001b[22m✔ Successfully created virtual environment!\u001b[39m\u001b[22m\u001b[0m \n",
            "Virtualenv location: \u001b[32m\u001b[22m/root/.local/share/virtualenvs/content-cQIIIOO2\u001b[39m\u001b[22m\n",
            "\u001b[39m\u001b[1mCreating a Pipfile for this project...\u001b[39m\u001b[22m\n",
            "\u001b[39m\u001b[1mInstalling \u001b[32m\u001b[1mgit+https://github.com/gunthercox/chatterbot-corpus.git#egg=chatterbot-corpus\u001b[39m\u001b[22m...\u001b[39m\u001b[22m\n",
            "\u001b[K\u001b[39m\u001b[1mAdding\u001b[39m\u001b[22m \u001b[32m\u001b[1mchatterbot-corpus\u001b[39m\u001b[22m \u001b[39m\u001b[1mto Pipfile's\u001b[39m\u001b[22m \u001b[33m\u001b[1m[packages]\u001b[39m\u001b[22m\u001b[39m\u001b[1m...\u001b[39m\u001b[22m\n",
            "\u001b[K\u001b[?25h✔ Installation Succeeded\u001b[0m \n",
            "\u001b[39m\u001b[1mPipfile.lock not found, creating...\u001b[39m\u001b[22m\n",
            "\u001b[39m\u001b[22mLocking\u001b[39m\u001b[22m \u001b[33m\u001b[22m[dev-packages]\u001b[39m\u001b[22m \u001b[39m\u001b[22mdependencies...\u001b[39m\u001b[22m\n",
            "\u001b[39m\u001b[22mLocking\u001b[39m\u001b[22m \u001b[33m\u001b[22m[packages]\u001b[39m\u001b[22m \u001b[39m\u001b[22mdependencies...\u001b[39m\u001b[22m\n",
            "\u001b[KBuilding requirements...\n",
            "\u001b[KResolving dependencies...\n",
            "\u001b[K\u001b[?25h\u001b[32m\u001b[22m✔ Success!\u001b[39m\u001b[22m\u001b[0m \n",
            "\u001b[39m\u001b[1mUpdated Pipfile.lock (f9735b)!\u001b[39m\u001b[22m\n",
            "\u001b[39m\u001b[1mInstalling dependencies from Pipfile.lock (f9735b)...\u001b[39m\u001b[22m\n",
            "  Building wheel for pypandoc (setup.py) ... \u001b[?25l\u001b[?25hdone\n",
            "  🐍   \u001b[32m\u001b[1m▉\u001b[39m\u001b[22m\u001b[32m\u001b[1m▉\u001b[39m\u001b[22m\u001b[32m\u001b[1m▉\u001b[39m\u001b[22m\u001b[32m\u001b[1m▉\u001b[39m\u001b[22m\u001b[32m\u001b[1m▉\u001b[39m\u001b[22m\u001b[32m\u001b[1m▉\u001b[39m\u001b[22m\u001b[32m\u001b[1m▉\u001b[39m\u001b[22m\u001b[32m\u001b[1m▉\u001b[39m\u001b[22m\u001b[32m\u001b[1m▉\u001b[39m\u001b[22m\u001b[32m\u001b[1m▉\u001b[39m\u001b[22m\u001b[32m\u001b[1m▉\u001b[39m\u001b[22m\u001b[32m\u001b[1m▉\u001b[39m\u001b[22m\u001b[32m\u001b[1m▉\u001b[39m\u001b[22m\u001b[32m\u001b[1m▉\u001b[39m\u001b[22m\u001b[32m\u001b[1m▉\u001b[39m\u001b[22m\u001b[32m\u001b[1m▉\u001b[39m\u001b[22m\u001b[32m\u001b[1m▉\u001b[39m\u001b[22m\u001b[32m\u001b[1m▉\u001b[39m\u001b[22m\u001b[32m\u001b[1m▉\u001b[39m\u001b[22m\u001b[32m\u001b[1m▉\u001b[39m\u001b[22m\u001b[32m\u001b[1m▉\u001b[39m\u001b[22m\u001b[32m\u001b[1m▉\u001b[39m\u001b[22m\u001b[32m\u001b[1m▉\u001b[39m\u001b[22m\u001b[32m\u001b[1m▉\u001b[39m\u001b[22m\u001b[32m\u001b[1m▉\u001b[39m\u001b[22m\u001b[32m\u001b[1m▉\u001b[39m\u001b[22m\u001b[32m\u001b[1m▉\u001b[39m\u001b[22m\u001b[32m\u001b[1m▉\u001b[39m\u001b[22m\u001b[32m\u001b[1m▉\u001b[39m\u001b[22m\u001b[32m\u001b[1m▉\u001b[39m\u001b[22m\u001b[32m\u001b[1m▉\u001b[39m\u001b[22m\u001b[32m\u001b[1m▉\u001b[39m\u001b[22m 0/0 — \u001b[30m\u001b[22m00:00:00\u001b[39m\u001b[22m\n",
            "To activate this project's virtualenv, run \u001b[33m\u001b[22mpipenv shell\u001b[39m\u001b[22m.\n",
            "Alternatively, run a command inside the virtualenv with \u001b[33m\u001b[22mpipenv run\u001b[39m\u001b[22m.\n",
            "\u001b[0m"
          ],
          "name": "stdout"
        }
      ]
    },
    {
      "cell_type": "code",
      "metadata": {
        "colab": {
          "base_uri": "https://localhost:8080/"
        },
        "id": "n3zwMJe1yonI",
        "outputId": "d2f61482-778b-4736-d44f-a48e727de6b6"
      },
      "source": [
        "!pipenv shell"
      ],
      "execution_count": null,
      "outputs": [
        {
          "output_type": "stream",
          "text": [
            "Launching subshell in virtual environment...\n",
            "\u001b[01;34m/content\u001b[00m#  . /root/.local/share/virtualenvs/content-cQIIIOO2/bin/activate\n",
            "(content) \u001b[01;34m/content\u001b[00m# \n",
            "Aborted!\n",
            "^C\n"
          ],
          "name": "stdout"
        }
      ]
    },
    {
      "cell_type": "code",
      "metadata": {
        "colab": {
          "base_uri": "https://localhost:8080/"
        },
        "id": "R3jiS5MCzceN",
        "outputId": "54dd99b5-3c26-4190-ff77-84ec994b641f"
      },
      "source": [
        "cd /root/.local/share/virtualenvs/content-cQIIIOO2/bin/"
      ],
      "execution_count": null,
      "outputs": [
        {
          "output_type": "stream",
          "text": [
            "/root/.local/share/virtualenvs/content-cQIIIOO2/bin\n"
          ],
          "name": "stdout"
        }
      ]
    },
    {
      "cell_type": "code",
      "metadata": {
        "colab": {
          "base_uri": "https://localhost:8080/"
        },
        "id": "aqzbJsgy0ylR",
        "outputId": "759369fd-55ff-4214-a0a3-49e31f2b56eb"
      },
      "source": [
        "ls -la"
      ],
      "execution_count": null,
      "outputs": [
        {
          "output_type": "stream",
          "text": [
            "total 84\n",
            "drwxr-xr-x 2 root root  4096 Mar 29 16:24 \u001b[0m\u001b[01;34m.\u001b[0m/\n",
            "drwxr-xr-x 5 root root  4096 Mar 29 16:22 \u001b[01;34m..\u001b[0m/\n",
            "-rw-r--r-- 1 root root  2413 Mar 29 16:22 activate\n",
            "-rw-r--r-- 1 root root  1475 Mar 29 16:22 activate.csh\n",
            "-rw-r--r-- 1 root root  3106 Mar 29 16:22 activate.fish\n",
            "-rw-r--r-- 1 root root  1771 Mar 29 16:22 activate.ps1\n",
            "-rw-r--r-- 1 root root  1199 Mar 29 16:22 activate_this.py\n",
            "-rw-r--r-- 1 root root  1187 Mar 29 16:22 activate.xsh\n",
            "-rw-r--r-- 1 root root 20480 Mar 29 16:24 db.sqlite3\n",
            "-rwxr-xr-x 1 root root   263 Mar 29 16:22 \u001b[01;32mpip\u001b[0m*\n",
            "-rwxr-xr-x 1 root root   263 Mar 29 16:22 \u001b[01;32mpip3\u001b[0m*\n",
            "-rwxr-xr-x 1 root root   263 Mar 29 16:22 \u001b[01;32mpip-3.7\u001b[0m*\n",
            "-rwxr-xr-x 1 root root   263 Mar 29 16:22 \u001b[01;32mpip3.7\u001b[0m*\n",
            "lrwxrwxrwx 1 root root    16 Mar 29 16:22 \u001b[01;36mpython\u001b[0m -> \u001b[01;32m/usr/bin/python3\u001b[0m*\n",
            "lrwxrwxrwx 1 root root     6 Mar 29 16:22 \u001b[01;36mpython3\u001b[0m -> \u001b[01;32mpython\u001b[0m*\n",
            "lrwxrwxrwx 1 root root     6 Mar 29 16:22 \u001b[01;36mpython3.7\u001b[0m -> \u001b[01;32mpython\u001b[0m*\n",
            "-rwxr-xr-x 1 root root   250 Mar 29 16:22 \u001b[01;32mwheel\u001b[0m*\n",
            "-rwxr-xr-x 1 root root   250 Mar 29 16:22 \u001b[01;32mwheel3\u001b[0m*\n",
            "-rwxr-xr-x 1 root root   250 Mar 29 16:22 \u001b[01;32mwheel-3.7\u001b[0m*\n",
            "-rwxr-xr-x 1 root root   250 Mar 29 16:22 \u001b[01;32mwheel3.7\u001b[0m*\n"
          ],
          "name": "stdout"
        }
      ]
    },
    {
      "cell_type": "code",
      "metadata": {
        "id": "pXq5SGbW03hB"
      },
      "source": [
        "!source ./activate"
      ],
      "execution_count": null,
      "outputs": []
    },
    {
      "cell_type": "code",
      "metadata": {
        "colab": {
          "base_uri": "https://localhost:8080/"
        },
        "id": "gWoCifF32f1E",
        "outputId": "309fbf50-a87d-4f09-f495-9c5481b106d9"
      },
      "source": [
        "!python -m chatterbot --version"
      ],
      "execution_count": null,
      "outputs": [
        {
          "output_type": "stream",
          "text": [
            "Traceback (most recent call last):\n",
            "  File \"/usr/lib/python3.7/runpy.py\", line 193, in _run_module_as_main\n",
            "    \"__main__\", mod_spec)\n",
            "  File \"/usr/lib/python3.7/runpy.py\", line 85, in _run_code\n",
            "    exec(code, run_globals)\n",
            "  File \"/usr/local/lib/python3.7/dist-packages/chatterbot/__main__.py\", line 20, in <module>\n",
            "    print(get_chatterbot_version())\n",
            "  File \"/usr/local/lib/python3.7/dist-packages/chatterbot/__main__.py\", line 15, in get_chatterbot_version\n",
            "    return config['chatterbot']['version']\n",
            "  File \"/usr/lib/python3.7/configparser.py\", line 958, in __getitem__\n",
            "    raise KeyError(key)\n",
            "KeyError: 'chatterbot'\n"
          ],
          "name": "stdout"
        }
      ]
    },
    {
      "cell_type": "code",
      "metadata": {
        "id": "7ytGWJI-2iaL"
      },
      "source": [
        "from chatterbot import ChatBot"
      ],
      "execution_count": null,
      "outputs": []
    },
    {
      "cell_type": "code",
      "metadata": {
        "id": "tMlFaLrfxKxn"
      },
      "source": [
        "chatbot= ChatBot('Ash')"
      ],
      "execution_count": null,
      "outputs": []
    },
    {
      "cell_type": "code",
      "metadata": {
        "id": "OpyHCSHmxdLz"
      },
      "source": [
        "from chatterbot.trainers import ListTrainer"
      ],
      "execution_count": null,
      "outputs": []
    },
    {
      "cell_type": "code",
      "metadata": {
        "id": "6y9dIloyxhvH"
      },
      "source": [
        "conversation=[\n",
        "              \"hello\",\n",
        "              \"hi there\",\n",
        "              \"how are you\",\n",
        "              \"good\",\n",
        "              \"good to hear\"\n",
        "]"
      ],
      "execution_count": null,
      "outputs": []
    },
    {
      "cell_type": "code",
      "metadata": {
        "id": "r26rgdEOxsYt"
      },
      "source": [
        "trainer=ListTrainer(chatbot)"
      ],
      "execution_count": null,
      "outputs": []
    },
    {
      "cell_type": "code",
      "metadata": {
        "colab": {
          "base_uri": "https://localhost:8080/"
        },
        "id": "RGr75hUxxvVD",
        "outputId": "446c6647-f9a7-420d-a787-51dd2008be4a"
      },
      "source": [
        "trainer.train(conversation)"
      ],
      "execution_count": null,
      "outputs": [
        {
          "output_type": "stream",
          "text": [
            "List Trainer: [####################] 100%\n"
          ],
          "name": "stdout"
        }
      ]
    },
    {
      "cell_type": "code",
      "metadata": {
        "colab": {
          "base_uri": "https://localhost:8080/"
        },
        "id": "hY_ZlZadxynw",
        "outputId": "d2186a00-8fb5-4987-aa0d-453ff7505a46"
      },
      "source": [
        "response=chatbot.get_response(\"ash\")\n",
        "print(response)"
      ],
      "execution_count": null,
      "outputs": [
        {
          "output_type": "stream",
          "text": [
            "hello\n"
          ],
          "name": "stdout"
        }
      ]
    },
    {
      "cell_type": "code",
      "metadata": {
        "colab": {
          "base_uri": "https://localhost:8080/"
        },
        "id": "U58N_zWIx62S",
        "outputId": "417be731-1405-4251-f273-42dd5bb32502"
      },
      "source": [
        "ls -la"
      ],
      "execution_count": null,
      "outputs": [
        {
          "output_type": "stream",
          "text": [
            "total 84\n",
            "drwxr-xr-x 2 root root  4096 Mar 29 16:25 \u001b[0m\u001b[01;34m.\u001b[0m/\n",
            "drwxr-xr-x 5 root root  4096 Mar 29 16:22 \u001b[01;34m..\u001b[0m/\n",
            "-rw-r--r-- 1 root root  2413 Mar 29 16:22 activate\n",
            "-rw-r--r-- 1 root root  1475 Mar 29 16:22 activate.csh\n",
            "-rw-r--r-- 1 root root  3106 Mar 29 16:22 activate.fish\n",
            "-rw-r--r-- 1 root root  1771 Mar 29 16:22 activate.ps1\n",
            "-rw-r--r-- 1 root root  1199 Mar 29 16:22 activate_this.py\n",
            "-rw-r--r-- 1 root root  1187 Mar 29 16:22 activate.xsh\n",
            "-rw-r--r-- 1 root root 20480 Mar 29 16:25 db.sqlite3\n",
            "-rwxr-xr-x 1 root root   263 Mar 29 16:22 \u001b[01;32mpip\u001b[0m*\n",
            "-rwxr-xr-x 1 root root   263 Mar 29 16:22 \u001b[01;32mpip3\u001b[0m*\n",
            "-rwxr-xr-x 1 root root   263 Mar 29 16:22 \u001b[01;32mpip-3.7\u001b[0m*\n",
            "-rwxr-xr-x 1 root root   263 Mar 29 16:22 \u001b[01;32mpip3.7\u001b[0m*\n",
            "lrwxrwxrwx 1 root root    16 Mar 29 16:22 \u001b[01;36mpython\u001b[0m -> \u001b[01;32m/usr/bin/python3\u001b[0m*\n",
            "lrwxrwxrwx 1 root root     6 Mar 29 16:22 \u001b[01;36mpython3\u001b[0m -> \u001b[01;32mpython\u001b[0m*\n",
            "lrwxrwxrwx 1 root root     6 Mar 29 16:22 \u001b[01;36mpython3.7\u001b[0m -> \u001b[01;32mpython\u001b[0m*\n",
            "-rwxr-xr-x 1 root root   250 Mar 29 16:22 \u001b[01;32mwheel\u001b[0m*\n",
            "-rwxr-xr-x 1 root root   250 Mar 29 16:22 \u001b[01;32mwheel3\u001b[0m*\n",
            "-rwxr-xr-x 1 root root   250 Mar 29 16:22 \u001b[01;32mwheel-3.7\u001b[0m*\n",
            "-rwxr-xr-x 1 root root   250 Mar 29 16:22 \u001b[01;32mwheel3.7\u001b[0m*\n"
          ],
          "name": "stdout"
        }
      ]
    },
    {
      "cell_type": "code",
      "metadata": {
        "colab": {
          "base_uri": "https://localhost:8080/",
          "height": 326
        },
        "id": "K7UmU93y0Swr",
        "outputId": "4316ec03-f2f0-4512-a5e5-3b52583abed4"
      },
      "source": [
        "pip install --ignore-installed chatterbot_corpus"
      ],
      "execution_count": null,
      "outputs": [
        {
          "output_type": "stream",
          "text": [
            "Collecting chatterbot_corpus\n",
            "  Using cached https://files.pythonhosted.org/packages/ed/19/f8b41daf36fe4b0f43e283a820362ffdb2c1128600ab4ee187e84262fa4d/chatterbot_corpus-1.2.0-py2.py3-none-any.whl\n",
            "Collecting PyYAML<4.0,>=3.12\n",
            "\u001b[?25l  Downloading https://files.pythonhosted.org/packages/9e/a3/1d13970c3f36777c583f136c136f804d70f500168edc1edea6daa7200769/PyYAML-3.13.tar.gz (270kB)\n",
            "\r\u001b[K     |█▏                              | 10kB 14.4MB/s eta 0:00:01\r\u001b[K     |██▍                             | 20kB 13.1MB/s eta 0:00:01\r\u001b[K     |███▋                            | 30kB 8.1MB/s eta 0:00:01\r\u001b[K     |████▉                           | 40kB 7.6MB/s eta 0:00:01\r\u001b[K     |██████                          | 51kB 4.5MB/s eta 0:00:01\r\u001b[K     |███████▎                        | 61kB 5.2MB/s eta 0:00:01\r\u001b[K     |████████▌                       | 71kB 5.3MB/s eta 0:00:01\r\u001b[K     |█████████▊                      | 81kB 5.6MB/s eta 0:00:01\r\u001b[K     |███████████                     | 92kB 5.4MB/s eta 0:00:01\r\u001b[K     |████████████                    | 102kB 5.6MB/s eta 0:00:01\r\u001b[K     |█████████████▎                  | 112kB 5.6MB/s eta 0:00:01\r\u001b[K     |██████████████▌                 | 122kB 5.6MB/s eta 0:00:01\r\u001b[K     |███████████████▊                | 133kB 5.6MB/s eta 0:00:01\r\u001b[K     |█████████████████               | 143kB 5.6MB/s eta 0:00:01\r\u001b[K     |██████████████████▏             | 153kB 5.6MB/s eta 0:00:01\r\u001b[K     |███████████████████▍            | 163kB 5.6MB/s eta 0:00:01\r\u001b[K     |████████████████████▋           | 174kB 5.6MB/s eta 0:00:01\r\u001b[K     |█████████████████████▉          | 184kB 5.6MB/s eta 0:00:01\r\u001b[K     |███████████████████████         | 194kB 5.6MB/s eta 0:00:01\r\u001b[K     |████████████████████████▏       | 204kB 5.6MB/s eta 0:00:01\r\u001b[K     |█████████████████████████▍      | 215kB 5.6MB/s eta 0:00:01\r\u001b[K     |██████████████████████████▋     | 225kB 5.6MB/s eta 0:00:01\r\u001b[K     |███████████████████████████▉    | 235kB 5.6MB/s eta 0:00:01\r\u001b[K     |█████████████████████████████   | 245kB 5.6MB/s eta 0:00:01\r\u001b[K     |██████████████████████████████▎ | 256kB 5.6MB/s eta 0:00:01\r\u001b[K     |███████████████████████████████▌| 266kB 5.6MB/s eta 0:00:01\r\u001b[K     |████████████████████████████████| 276kB 5.6MB/s \n",
            "\u001b[?25hBuilding wheels for collected packages: PyYAML\n",
            "  Building wheel for PyYAML (setup.py) ... \u001b[?25l\u001b[?25hdone\n",
            "  Created wheel for PyYAML: filename=PyYAML-3.13-cp37-cp37m-linux_x86_64.whl size=43088 sha256=68501c93cb1d49baad13f04a0e4b457a46f6edd614346df8777210fde0fcd5b8\n",
            "  Stored in directory: /root/.cache/pip/wheels/ad/da/0c/74eb680767247273e2cf2723482cb9c924fe70af57c334513f\n",
            "Successfully built PyYAML\n",
            "Installing collected packages: PyYAML, chatterbot-corpus\n",
            "Successfully installed PyYAML-3.13 chatterbot-corpus-1.2.0\n"
          ],
          "name": "stdout"
        },
        {
          "output_type": "display_data",
          "data": {
            "application/vnd.colab-display-data+json": {
              "pip_warning": {
                "packages": [
                  "yaml"
                ]
              }
            }
          },
          "metadata": {
            "tags": []
          }
        }
      ]
    },
    {
      "cell_type": "code",
      "metadata": {
        "id": "psRnCxNlyD_v"
      },
      "source": [
        "from chatterbot.trainers import ChatterBotCorpusTrainer"
      ],
      "execution_count": null,
      "outputs": []
    },
    {
      "cell_type": "code",
      "metadata": {
        "id": "64IH_kI-yKMT"
      },
      "source": [
        "trainer= ChatterBotCorpusTrainer(chatbot)"
      ],
      "execution_count": null,
      "outputs": []
    },
    {
      "cell_type": "code",
      "metadata": {
        "colab": {
          "base_uri": "https://localhost:8080/"
        },
        "id": "mT1xIqjnyPZN",
        "outputId": "feb1eab8-0d79-4262-b27f-d82469f51dfc"
      },
      "source": [
        "trainer.train(\n",
        "    \"chatterbot.corpus.english\"\n",
        ")"
      ],
      "execution_count": null,
      "outputs": [
        {
          "output_type": "stream",
          "text": [
            "Training ai.yml: [####################] 100%\n",
            "Training botprofile.yml: [####################] 100%\n",
            "Training computers.yml: [####################] 100%\n",
            "Training conversations.yml: [####################] 100%\n",
            "Training emotion.yml: [####################] 100%\n",
            "Training food.yml: [####################] 100%\n",
            "Training gossip.yml: [####################] 100%\n",
            "Training greetings.yml: [####################] 100%\n",
            "Training health.yml: [####################] 100%\n",
            "Training history.yml: [####################] 100%\n",
            "Training humor.yml: [####################] 100%\n",
            "Training literature.yml: [####################] 100%\n",
            "Training money.yml: [####################] 100%\n",
            "Training movies.yml: [####################] 100%\n",
            "Training politics.yml: [####################] 100%\n",
            "Training psychology.yml: [####################] 100%\n",
            "Training science.yml: [####################] 100%\n",
            "Training sports.yml: [####################] 100%\n",
            "Training trivia.yml: [####################] 100%\n"
          ],
          "name": "stdout"
        }
      ]
    },
    {
      "cell_type": "code",
      "metadata": {
        "colab": {
          "base_uri": "https://localhost:8080/"
        },
        "id": "_UgCpIT5yT7c",
        "outputId": "eafbcada-ddf7-4e9c-db73-9a609f3f2d3e"
      },
      "source": [
        "response=chatbot.get_response(\"what is your name?\")\n",
        "print(response)"
      ],
      "execution_count": null,
      "outputs": [
        {
          "output_type": "stream",
          "text": [
            "good\n"
          ],
          "name": "stdout"
        }
      ]
    },
    {
      "cell_type": "code",
      "metadata": {
        "id": "MML0O9Wi1BV0"
      },
      "source": [
        ""
      ],
      "execution_count": null,
      "outputs": []
    }
  ]
}